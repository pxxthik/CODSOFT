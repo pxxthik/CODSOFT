{
 "cells": [
  {
   "cell_type": "markdown",
   "id": "55b472ae-156a-485e-9a41-d25b9f81724c",
   "metadata": {},
   "source": [
    "# Genre Classification Project: Text Preprocessing\r\n",
    "\r\n",
    "This notebook focuses on the text preprocessing steps necessary for preparing the data for model building.\r\n",
    "\r\n",
    "## Contents\r\n",
    "1. **Lowercasing**: Converting all text data to lowercase to ensure uniformity.\r\n",
    "2. **Removing Unnecessary Elements**: Cleaning the text by removing punctuation, special characters, and other irrelevant elements.\r\n",
    "3. **Removing Stopwords**: Filtering out common stopwords to reduce noise in the data.\r\n",
    "4. **Stemming**: Applying stemming to reduce words to their root forms, helping to standardize variations of words.\r\n",
    "\r\n",
    "These preprocessing steps are crucial for enhancing the quality of the text data, making it more suitable for the subsequent stages of the genre classification project.\r\n"
   ]
  },
  {
   "cell_type": "code",
   "execution_count": 1,
   "id": "19ee071b-ddd3-4c26-9dd8-51093c4b0088",
   "metadata": {},
   "outputs": [],
   "source": [
    "import numpy as np\n",
    "import pandas as pd"
   ]
  },
  {
   "cell_type": "code",
   "execution_count": 2,
   "id": "315318ae-795c-432c-ba82-0777ea3f54bf",
   "metadata": {},
   "outputs": [],
   "source": [
    "import re\n",
    "import nltk\n",
    "import string\n",
    "from nltk.corpus import stopwords\n",
    "from nltk.stem import PorterStemmer, WordNetLemmatizer"
   ]
  },
  {
   "cell_type": "code",
   "execution_count": 3,
   "id": "e0342ab9-0882-490d-9794-3ddc92a508ec",
   "metadata": {},
   "outputs": [],
   "source": [
    "import matplotlib.pyplot as plt"
   ]
  },
  {
   "cell_type": "code",
   "execution_count": 4,
   "id": "74f5d770-dbad-4966-a4d5-01fe00f95b79",
   "metadata": {},
   "outputs": [
    {
     "name": "stderr",
     "output_type": "stream",
     "text": [
      "[nltk_data] Downloading package wordnet to\n",
      "[nltk_data]     C:\\Users\\Acer\\AppData\\Roaming\\nltk_data...\n",
      "[nltk_data]   Package wordnet is already up-to-date!\n"
     ]
    },
    {
     "data": {
      "text/plain": [
       "True"
      ]
     },
     "execution_count": 4,
     "metadata": {},
     "output_type": "execute_result"
    }
   ],
   "source": [
    "nltk.download('wordnet')"
   ]
  },
  {
   "cell_type": "code",
   "execution_count": 29,
   "id": "ce66bc9f-406d-4f50-92e7-87404f08af11",
   "metadata": {},
   "outputs": [
    {
     "data": {
      "text/html": [
       "<div>\n",
       "<style scoped>\n",
       "    .dataframe tbody tr th:only-of-type {\n",
       "        vertical-align: middle;\n",
       "    }\n",
       "\n",
       "    .dataframe tbody tr th {\n",
       "        vertical-align: top;\n",
       "    }\n",
       "\n",
       "    .dataframe thead th {\n",
       "        text-align: right;\n",
       "    }\n",
       "</style>\n",
       "<table border=\"1\" class=\"dataframe\">\n",
       "  <thead>\n",
       "    <tr style=\"text-align: right;\">\n",
       "      <th></th>\n",
       "      <th>title</th>\n",
       "      <th>genre</th>\n",
       "      <th>description</th>\n",
       "    </tr>\n",
       "  </thead>\n",
       "  <tbody>\n",
       "    <tr>\n",
       "      <th>0</th>\n",
       "      <td>Oscar et la dame rose (2009)</td>\n",
       "      <td>drama</td>\n",
       "      <td>Listening in to a conversation between his do...</td>\n",
       "    </tr>\n",
       "    <tr>\n",
       "      <th>1</th>\n",
       "      <td>Cupid (1997)</td>\n",
       "      <td>thriller</td>\n",
       "      <td>A brother and sister with a past incestuous r...</td>\n",
       "    </tr>\n",
       "    <tr>\n",
       "      <th>2</th>\n",
       "      <td>Young, Wild and Wonderful (1980)</td>\n",
       "      <td>adult</td>\n",
       "      <td>As the bus empties the students for their fie...</td>\n",
       "    </tr>\n",
       "    <tr>\n",
       "      <th>3</th>\n",
       "      <td>The Secret Sin (1915)</td>\n",
       "      <td>drama</td>\n",
       "      <td>To help their unemployed father make ends mee...</td>\n",
       "    </tr>\n",
       "    <tr>\n",
       "      <th>4</th>\n",
       "      <td>The Unrecovered (2007)</td>\n",
       "      <td>drama</td>\n",
       "      <td>The film's title refers not only to the un-re...</td>\n",
       "    </tr>\n",
       "  </tbody>\n",
       "</table>\n",
       "</div>"
      ],
      "text/plain": [
       "                                title       genre  \\\n",
       "0       Oscar et la dame rose (2009)       drama    \n",
       "1                       Cupid (1997)    thriller    \n",
       "2   Young, Wild and Wonderful (1980)       adult    \n",
       "3              The Secret Sin (1915)       drama    \n",
       "4             The Unrecovered (2007)       drama    \n",
       "\n",
       "                                         description  \n",
       "0   Listening in to a conversation between his do...  \n",
       "1   A brother and sister with a past incestuous r...  \n",
       "2   As the bus empties the students for their fie...  \n",
       "3   To help their unemployed father make ends mee...  \n",
       "4   The film's title refers not only to the un-re...  "
      ]
     },
     "execution_count": 29,
     "metadata": {},
     "output_type": "execute_result"
    }
   ],
   "source": [
    "df = pd.read_csv(\"data/movie-genre-classification-train.csv\")\n",
    "df.head()"
   ]
  },
  {
   "cell_type": "markdown",
   "id": "331d3e8b-a73e-4768-8817-3696f97a3603",
   "metadata": {},
   "source": [
    "## Preprocessing"
   ]
  },
  {
   "cell_type": "code",
   "execution_count": 30,
   "id": "678370a9-1073-4ee9-8e7b-31609f08c5f9",
   "metadata": {},
   "outputs": [],
   "source": [
    "# Converting all documents to lowercase\n",
    "df['cleaned_text'] = df['description'].str.lower()"
   ]
  },
  {
   "cell_type": "code",
   "execution_count": 31,
   "id": "b7dcaca7-2bec-4bd3-a57e-3ae481d57a7f",
   "metadata": {},
   "outputs": [],
   "source": [
    "# Removing all twitter mentions form documents\n",
    "df['cleaned_text'] = df['cleaned_text'].apply(lambda x: re.sub(r'@\\S+','',x))"
   ]
  },
  {
   "cell_type": "code",
   "execution_count": 32,
   "id": "caf5c41c-f917-41dd-a631-3a3e0d09bb9e",
   "metadata": {},
   "outputs": [],
   "source": [
    "# Removing all urls from ducuments\n",
    "df['cleaned_text'] = df['cleaned_text'].apply(lambda x: re.sub(r'http\\S+', '', x))"
   ]
  },
  {
   "cell_type": "code",
   "execution_count": 33,
   "id": "01e5dbec-184a-4956-803b-94ab63fc95db",
   "metadata": {},
   "outputs": [],
   "source": [
    "# Removing all pics from ducuments\n",
    "df['cleaned_text'] = df['cleaned_text'].apply(lambda x: re.sub(r'pic.\\S+', '',x))"
   ]
  },
  {
   "cell_type": "code",
   "execution_count": 34,
   "id": "7b8f1e3f-7f8e-49f3-9015-db67167cc106",
   "metadata": {},
   "outputs": [],
   "source": [
    "# keep only english chars / remove numbers from ducuments\n",
    "df['cleaned_text'] = df['cleaned_text'].apply(lambda x: re.sub(r'[^a-zA-Z+]', ' ', x))"
   ]
  },
  {
   "cell_type": "code",
   "execution_count": 35,
   "id": "71596967-845d-4b4a-b63a-ecbdcc7474bc",
   "metadata": {},
   "outputs": [],
   "source": [
    "def remove_puctuations(text):\n",
    "    l = []\n",
    "    for i in text:\n",
    "        if i not in string.punctuation:\n",
    "            l.append(i)\n",
    "    return \"\".join(l)"
   ]
  },
  {
   "cell_type": "code",
   "execution_count": 36,
   "id": "535b1570-296e-468d-9497-12247e5515c4",
   "metadata": {},
   "outputs": [],
   "source": [
    "# Removing puctuations from all ducuments\n",
    "df['cleaned_text'] = df['cleaned_text'].apply(remove_puctuations)"
   ]
  },
  {
   "cell_type": "code",
   "execution_count": 37,
   "id": "63e81de0-78a5-47bf-8975-f2b217e8f243",
   "metadata": {},
   "outputs": [
    {
     "data": {
      "text/plain": [
       "'!\"#$%&\\'()*+,-./:;<=>?@[\\\\]^_`{|}~'"
      ]
     },
     "execution_count": 37,
     "metadata": {},
     "output_type": "execute_result"
    }
   ],
   "source": [
    "string.punctuation"
   ]
  },
  {
   "cell_type": "markdown",
   "id": "9bdb0039-5f9d-47e9-9bd5-715e5bb20729",
   "metadata": {},
   "source": [
    "## Stop word removal"
   ]
  },
  {
   "cell_type": "code",
   "execution_count": 38,
   "id": "c6a5b24d-4da6-4edc-8dde-82717546d791",
   "metadata": {},
   "outputs": [],
   "source": [
    "stopwords = nltk.corpus.stopwords.words('english')\n",
    "\n",
    "def remove_stopwords(text):\n",
    "    words = nltk.word_tokenize(text)\n",
    "\n",
    "    l = []\n",
    "    for i in words:\n",
    "        if i not in stopwords and len(i) > 2:\n",
    "            l.append(i)\n",
    "    return \" \".join(l)"
   ]
  },
  {
   "cell_type": "code",
   "execution_count": 39,
   "id": "0a7b0610-fdd7-49d5-9e15-eb4ac7dbffb1",
   "metadata": {},
   "outputs": [],
   "source": [
    "df['cleaned_text'] = df['cleaned_text'].apply(remove_stopwords)"
   ]
  },
  {
   "cell_type": "code",
   "execution_count": 40,
   "id": "bf1b9e9d-fff9-41c8-a5b1-f0c0bf4de869",
   "metadata": {},
   "outputs": [],
   "source": [
    "# Removing repeated/leading/trailing spaces\n",
    "df['cleaned_text'] = df['cleaned_text'].apply(lambda x: re.sub(\"\\s[\\s]+\", \" \",x).strip())"
   ]
  },
  {
   "cell_type": "code",
   "execution_count": 41,
   "id": "9fea9c61-70f6-437d-8be4-6ea2932d00bb",
   "metadata": {},
   "outputs": [
    {
     "data": {
      "text/html": [
       "<div>\n",
       "<style scoped>\n",
       "    .dataframe tbody tr th:only-of-type {\n",
       "        vertical-align: middle;\n",
       "    }\n",
       "\n",
       "    .dataframe tbody tr th {\n",
       "        vertical-align: top;\n",
       "    }\n",
       "\n",
       "    .dataframe thead th {\n",
       "        text-align: right;\n",
       "    }\n",
       "</style>\n",
       "<table border=\"1\" class=\"dataframe\">\n",
       "  <thead>\n",
       "    <tr style=\"text-align: right;\">\n",
       "      <th></th>\n",
       "      <th>title</th>\n",
       "      <th>genre</th>\n",
       "      <th>description</th>\n",
       "      <th>cleaned_text</th>\n",
       "    </tr>\n",
       "  </thead>\n",
       "  <tbody>\n",
       "    <tr>\n",
       "      <th>0</th>\n",
       "      <td>Oscar et la dame rose (2009)</td>\n",
       "      <td>drama</td>\n",
       "      <td>Listening in to a conversation between his do...</td>\n",
       "      <td>listening conversation doctor parents year old...</td>\n",
       "    </tr>\n",
       "    <tr>\n",
       "      <th>1</th>\n",
       "      <td>Cupid (1997)</td>\n",
       "      <td>thriller</td>\n",
       "      <td>A brother and sister with a past incestuous r...</td>\n",
       "      <td>brother sister past incestuous relationship cu...</td>\n",
       "    </tr>\n",
       "    <tr>\n",
       "      <th>2</th>\n",
       "      <td>Young, Wild and Wonderful (1980)</td>\n",
       "      <td>adult</td>\n",
       "      <td>As the bus empties the students for their fie...</td>\n",
       "      <td>bus empties students field trip museum natural...</td>\n",
       "    </tr>\n",
       "    <tr>\n",
       "      <th>3</th>\n",
       "      <td>The Secret Sin (1915)</td>\n",
       "      <td>drama</td>\n",
       "      <td>To help their unemployed father make ends mee...</td>\n",
       "      <td>help unemployed father make ends meet edith tw...</td>\n",
       "    </tr>\n",
       "    <tr>\n",
       "      <th>4</th>\n",
       "      <td>The Unrecovered (2007)</td>\n",
       "      <td>drama</td>\n",
       "      <td>The film's title refers not only to the un-re...</td>\n",
       "      <td>film title refers recovered bodies ground zero...</td>\n",
       "    </tr>\n",
       "  </tbody>\n",
       "</table>\n",
       "</div>"
      ],
      "text/plain": [
       "                                title       genre  \\\n",
       "0       Oscar et la dame rose (2009)       drama    \n",
       "1                       Cupid (1997)    thriller    \n",
       "2   Young, Wild and Wonderful (1980)       adult    \n",
       "3              The Secret Sin (1915)       drama    \n",
       "4             The Unrecovered (2007)       drama    \n",
       "\n",
       "                                         description  \\\n",
       "0   Listening in to a conversation between his do...   \n",
       "1   A brother and sister with a past incestuous r...   \n",
       "2   As the bus empties the students for their fie...   \n",
       "3   To help their unemployed father make ends mee...   \n",
       "4   The film's title refers not only to the un-re...   \n",
       "\n",
       "                                        cleaned_text  \n",
       "0  listening conversation doctor parents year old...  \n",
       "1  brother sister past incestuous relationship cu...  \n",
       "2  bus empties students field trip museum natural...  \n",
       "3  help unemployed father make ends meet edith tw...  \n",
       "4  film title refers recovered bodies ground zero...  "
      ]
     },
     "execution_count": 41,
     "metadata": {},
     "output_type": "execute_result"
    }
   ],
   "source": [
    "df.head()"
   ]
  },
  {
   "cell_type": "markdown",
   "id": "73c8ac01-b951-4017-a11e-177465254dbb",
   "metadata": {},
   "source": [
    "## Stemming"
   ]
  },
  {
   "cell_type": "code",
   "execution_count": 42,
   "id": "2583dab4-9124-4ba5-adf1-08269f589996",
   "metadata": {},
   "outputs": [],
   "source": [
    "stemmer = PorterStemmer()\n",
    "df['cleaned_text'] = df['cleaned_text'].apply(lambda x: stemmer.stem(x))"
   ]
  },
  {
   "cell_type": "code",
   "execution_count": 43,
   "id": "45419d68-2371-49a3-9209-6b123f5eda8e",
   "metadata": {},
   "outputs": [
    {
     "data": {
      "text/plain": [
       "' Listening in to a conversation between his doctor and parents, 10-year-old Oscar learns what nobody has the courage to tell him. He only has a few weeks to live. Furious, he refuses to speak to anyone except straight-talking Rose, the lady in pink he meets on the hospital stairs. As Christmas approaches, Rose uses her fantastical experiences as a professional wrestler, her imagination, wit and charm to allow Oscar to live life and love to the full, in the company of his friends Pop Corn, Einstein, Bacon and childhood sweetheart Peggy Blue.'"
      ]
     },
     "execution_count": 43,
     "metadata": {},
     "output_type": "execute_result"
    }
   ],
   "source": [
    "df[\"description\"][0]"
   ]
  },
  {
   "cell_type": "code",
   "execution_count": 44,
   "id": "29bc5170-a4f2-46f6-a15a-cdded761c72c",
   "metadata": {},
   "outputs": [
    {
     "data": {
      "text/plain": [
       "'listening conversation doctor parents year old oscar learns nobody courage tell weeks live furious refuses speak anyone except straight talking rose lady pink meets hospital stairs christmas approaches rose uses fantastical experiences professional wrestler imagination wit charm allow oscar live life love full company friends pop corn einstein bacon childhood sweetheart peggy blu'"
      ]
     },
     "execution_count": 44,
     "metadata": {},
     "output_type": "execute_result"
    }
   ],
   "source": [
    "df[\"cleaned_text\"][0]"
   ]
  },
  {
   "cell_type": "markdown",
   "id": "c5373404-070d-4558-8b92-11937007e0e3",
   "metadata": {},
   "source": [
    "## Analyzing Original text and cleaned text"
   ]
  },
  {
   "cell_type": "code",
   "execution_count": 45,
   "id": "393109a3-fa6a-424a-b42e-95a14bf44d33",
   "metadata": {},
   "outputs": [
    {
     "data": {
      "text/plain": [
       "600.4524292618142"
      ]
     },
     "execution_count": 45,
     "metadata": {},
     "output_type": "execute_result"
    }
   ],
   "source": [
    "df['description'].apply(len).values.mean()"
   ]
  },
  {
   "cell_type": "code",
   "execution_count": 46,
   "id": "a7b2ede8-565c-420f-8f65-fe3f784c7a1d",
   "metadata": {},
   "outputs": [
    {
     "data": {
      "text/plain": [
       "405.18521046224225"
      ]
     },
     "execution_count": 46,
     "metadata": {},
     "output_type": "execute_result"
    }
   ],
   "source": [
    "df['cleaned_text'].apply(len).values.mean()"
   ]
  },
  {
   "cell_type": "code",
   "execution_count": 47,
   "id": "dc5870b6-de22-41da-bcfd-3b8c0a56ac38",
   "metadata": {},
   "outputs": [
    {
     "data": {
      "text/plain": [
       "Text(0, 0.5, 'Frequency')"
      ]
     },
     "execution_count": 47,
     "metadata": {},
     "output_type": "execute_result"
    },
    {
     "data": {
      "image/png": "[encoded data removed]",
      "text/plain": [
       "<Figure size 640x480 with 1 Axes>"
      ]
     },
     "metadata": {},
     "output_type": "display_data"
    }
   ],
   "source": [
    "original_lengths = df['description'].apply(len)\n",
    "plt.hist(original_lengths, bins=range(0, max(original_lengths) + 100, 100), color='blue', alpha=0.7)\n",
    "plt.title('Original Text Length')\n",
    "plt.xlabel('Text Length')\n",
    "plt.ylabel('Frequency')"
   ]
  },
  {
   "cell_type": "code",
   "execution_count": 48,
   "id": "328beed8-7691-4812-b0fe-feb325aef2bc",
   "metadata": {},
   "outputs": [
    {
     "data": {
      "text/plain": [
       "Text(0, 0.5, 'Frequency')"
      ]
     },
     "execution_count": 48,
     "metadata": {},
     "output_type": "execute_result"
    },
    {
     "data": {
      "image/png": "[encoded data removed]",
      "text/plain": [
       "<Figure size 640x480 with 1 Axes>"
      ]
     },
     "metadata": {},
     "output_type": "display_data"
    }
   ],
   "source": [
    "original_lengths = df['cleaned_text'].apply(len)\n",
    "plt.hist(original_lengths, bins=range(0, max(original_lengths) + 100, 100), color='green', alpha=0.7)\n",
    "plt.title('Cleaned Text Length')\n",
    "plt.xlabel('Text Length')\n",
    "plt.ylabel('Frequency')"
   ]
  },
  {
   "cell_type": "code",
   "execution_count": 50,
   "id": "3c88a6de-6272-4f83-ba1d-725a9238005a",
   "metadata": {},
   "outputs": [],
   "source": [
    "df.to_csv(\"data/movie-genre-classification-preprocessed.csv\", index=False)"
   ]
  },
  {
   "cell_type": "code",
   "execution_count": null,
   "id": "e433e443-158f-405a-91e5-fb14580b29bb",
   "metadata": {},
   "outputs": [],
   "source": []
  }
 ],
 "metadata": {
  "kernelspec": {
   "display_name": "Python 3 (ipykernel)",
   "language": "python",
   "name": "python3"
  },
  "language_info": {
   "codemirror_mode": {
    "name": "ipython",
    "version": 3
   },
   "file_extension": ".py",
   "mimetype": "text/x-python",
   "name": "python",
   "nbconvert_exporter": "python",
   "pygments_lexer": "ipython3",
   "version": "3.11.5"
  }
 },
 "nbformat": 4,
 "nbformat_minor": 5
}
